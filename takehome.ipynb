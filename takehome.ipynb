{
 "cells": [
  {
   "cell_type": "code",
   "execution_count": 1,
   "metadata": {},
   "outputs": [
    {
     "name": "stderr",
     "output_type": "stream",
     "text": [
      "/usr/local/lib/python2.7/dist-packages/requests/__init__.py:80: RequestsDependencyWarning: urllib3 (1.22) or chardet (2.3.0) doesn't match a supported version!\n",
      "  RequestsDependencyWarning)\n"
     ]
    }
   ],
   "source": [
    "import json\n",
    "import urllib\n",
    "import requests\n",
    "import numpy as np\n",
    "import pandas as pd\n"
   ]
  },
  {
   "cell_type": "code",
   "execution_count": 8,
   "metadata": {},
   "outputs": [],
   "source": [
    "full_df = pd.DataFrame()\n",
    "\n",
    "#set the column types for the data frames we are going to load\n",
    "column_types={'complaint_type': np.unicode,\n",
    "   'incident_zip': np.unicode,\n",
    "  }\n",
    "\n",
    "offset = 0\n",
    "chunk_size = 100000\n",
    "while True:\n",
    "    #retrieve data in chunks using json api as it lets us filter out years and select only certain columms\n",
    "    url_base = 'https://data.cityofnewyork.us/resource/fhrw-4uyv.json?$limit=%s&$offset=%s' % (chunk_size,offset)\n",
    "    select_clause = '$select=:id,created_date,complaint_type,incident_zip,borough'\n",
    "    #create a filter to get only 2017 data\n",
    "    where_clause = '$where=' + urllib.quote(\"created_date between '2017-01-01T00:00:00' and '2017-12-31T23:59:59'\")\n",
    "    #create the full url\n",
    "    url = '%s&%s&%s' % (url_base,select_clause,where_clause)\n",
    "\n",
    "    #now get the filtered data\n",
    "    result = requests.get(url)\n",
    "\n",
    "    #load the data in to a data frame and append it to the full one\n",
    "    current_df = pd.read_json(result.text, dtype=column_types)\n",
    "    data_read = current_df.shape[0]\n",
    "\n",
    "    #remove rows with unspecified boroughs\n",
    "    current_df = current_df[current_df.borough != 'Unspecified']\n",
    "    #now add to the full one\n",
    "    full_df = pd.concat([full_df,current_df])\n",
    "\n",
    "    #now increase the offset and exit if we read less than the full amount\n",
    "    offset += chunk_size\n",
    "    if data_read < chunk_size:\n",
    "        break\n",
    "\n",
    "\n"
   ]
  },
  {
   "cell_type": "code",
   "execution_count": 10,
   "metadata": {},
   "outputs": [
    {
     "name": "stdout",
     "output_type": "stream",
     "text": [
      "Show Counts of the Top 10 complaints in each borough\n"
     ]
    },
    {
     "data": {
      "text/plain": [
       "borough  complaint_type     \n",
       "BRONX    Blocked Driveway       23944\n",
       "         HEAT/HOT WATER         66984\n",
       "         Illegal Parking        15886\n",
       "         Noise                   3179\n",
       "         Noise - Residential    55060\n",
       "Name: :id, dtype: int64"
      ]
     },
     "execution_count": 10,
     "metadata": {},
     "output_type": "execute_result"
    }
   ],
   "source": [
    "#Problem 1\n",
    "#Consider only the 10 most common overall complaint types. For each borough, how many of each of those 10 types were there in 2017?\n",
    "\n",
    "#get the top 10 complaints by type in a list\n",
    "complaint_counts = full_df.groupby(['complaint_type'])[':id'].agg('count')\n",
    "top_complaints = complaint_counts.nlargest(10).to_dict().keys()\n",
    "\n",
    "#now use the top 10 complaints to filter the main list\n",
    "filtered_top_complaint_df = full_df[full_df['complaint_type'].isin(top_complaints)]\n",
    "#now get the top complaints per borough\n",
    "borough_top_complaint_df = filtered_top_complaint_df.groupby(['borough','complaint_type'])[':id'].agg('count')\n",
    "print 'Show Counts of the Top 10 complaints in each borough'\n",
    "borough_top_complaint_df.head()\n",
    "\n"
   ]
  },
  {
   "cell_type": "code",
   "execution_count": 11,
   "metadata": {},
   "outputs": [
    {
     "data": {
      "text/html": [
       "<div>\n",
       "<style scoped>\n",
       "    .dataframe tbody tr th:only-of-type {\n",
       "        vertical-align: middle;\n",
       "    }\n",
       "\n",
       "    .dataframe tbody tr th {\n",
       "        vertical-align: top;\n",
       "    }\n",
       "\n",
       "    .dataframe thead th {\n",
       "        text-align: right;\n",
       "    }\n",
       "</style>\n",
       "<table border=\"1\" class=\"dataframe\">\n",
       "  <thead>\n",
       "    <tr style=\"text-align: right;\">\n",
       "      <th></th>\n",
       "      <th></th>\n",
       "      <th>Zip Population</th>\n",
       "    </tr>\n",
       "    <tr>\n",
       "      <th>incident_zip</th>\n",
       "      <th>complaint_type</th>\n",
       "      <th></th>\n",
       "    </tr>\n",
       "  </thead>\n",
       "  <tbody>\n",
       "    <tr>\n",
       "      <th rowspan=\"5\" valign=\"top\">10025</th>\n",
       "      <th>Blocked Driveway</th>\n",
       "      <td>126</td>\n",
       "    </tr>\n",
       "    <tr>\n",
       "      <th>HEAT/HOT WATER</th>\n",
       "      <td>2025</td>\n",
       "    </tr>\n",
       "    <tr>\n",
       "      <th>Illegal Parking</th>\n",
       "      <td>731</td>\n",
       "    </tr>\n",
       "    <tr>\n",
       "      <th>Noise</th>\n",
       "      <td>1409</td>\n",
       "    </tr>\n",
       "    <tr>\n",
       "      <th>Noise - Residential</th>\n",
       "      <td>2046</td>\n",
       "    </tr>\n",
       "  </tbody>\n",
       "</table>\n",
       "</div>"
      ],
      "text/plain": [
       "                                  Zip Population\n",
       "incident_zip complaint_type                     \n",
       "10025        Blocked Driveway                126\n",
       "             HEAT/HOT WATER                 2025\n",
       "             Illegal Parking                 731\n",
       "             Noise                          1409\n",
       "             Noise - Residential            2046"
      ]
     },
     "execution_count": 11,
     "metadata": {},
     "output_type": "execute_result"
    }
   ],
   "source": [
    "#Problem 2\n",
    "#For the 10 most populous zip codes, how many of each of those 10 types were there in 2017?\n",
    "\n",
    "#load a data frame with zipcode population information from the census\n",
    "zipcode_column_types={'Zip Code ZCTA': np.unicode }\n",
    "zipcode_population_df = pd.read_csv('2010_Census_Population_By_Zipcode_ZCTA.csv',dtype=zipcode_column_types).rename(\n",
    "                     columns={'Zip Code ZCTA': 'incident_zip','2010 Census Population':'Zip Population'})\n",
    "\n",
    "#get distinct nyc zipcodes (might want to replace the with a separate imported dataset)\n",
    "zipcodes = full_df.incident_zip.unique()\n",
    "\n",
    "#filter the population data set by the distinct zipcodes to just get nyc populations\n",
    "nyc_zipcode_population_df = zipcode_population_df[zipcode_population_df['incident_zip'].isin(zipcodes)]\n",
    "#print nyc_zipcode_population_df.head()\n",
    "\n",
    "#now get the top ten most populous zipcodes from nyc (this might need to be improved to be done outset our complaint set)\n",
    "ten_largest_zipcodes_df = nyc_zipcode_population_df.nlargest(10, 'Zip Population')#.to_dict().keys()\n",
    "\n",
    "#now merge the top ten zipcodes set with the top 10 complaint set we previously calculated for problem 1\n",
    "complaints_in_top_zipcodes_df = ten_largest_zipcodes_df.merge(filtered_top_complaint_df[['complaint_type','incident_zip']], on='incident_zip')\n",
    "#now get the aggegate count of complaint type for each of the 10 zipcodes\n",
    "complaints_in_top_zipcodes_agg_df = complaints_in_top_zipcodes_df.groupby(['incident_zip', 'complaint_type']).count()\n",
    "complaints_in_top_zipcodes_agg_df.head()\n",
    "\n"
   ]
  },
  {
   "cell_type": "code",
   "execution_count": 12,
   "metadata": {},
   "outputs": [
    {
     "data": {
      "text/html": [
       "<div>\n",
       "<style scoped>\n",
       "    .dataframe tbody tr th:only-of-type {\n",
       "        vertical-align: middle;\n",
       "    }\n",
       "\n",
       "    .dataframe tbody tr th {\n",
       "        vertical-align: top;\n",
       "    }\n",
       "\n",
       "    .dataframe thead th {\n",
       "        text-align: right;\n",
       "    }\n",
       "</style>\n",
       "<table border=\"1\" class=\"dataframe\">\n",
       "  <thead>\n",
       "    <tr style=\"text-align: right;\">\n",
       "      <th></th>\n",
       "      <th>Borough</th>\n",
       "      <th>Population</th>\n",
       "      <th>Complaints</th>\n",
       "      <th>Complaint_Index</th>\n",
       "    </tr>\n",
       "  </thead>\n",
       "  <tbody>\n",
       "    <tr>\n",
       "      <th>0</th>\n",
       "      <td>BRONX</td>\n",
       "      <td>1385108</td>\n",
       "      <td>450115</td>\n",
       "      <td>0.324967</td>\n",
       "    </tr>\n",
       "    <tr>\n",
       "      <th>1</th>\n",
       "      <td>BROOKLYN</td>\n",
       "      <td>2504700</td>\n",
       "      <td>765325</td>\n",
       "      <td>0.305556</td>\n",
       "    </tr>\n",
       "    <tr>\n",
       "      <th>2</th>\n",
       "      <td>MANHATTAN</td>\n",
       "      <td>1585873</td>\n",
       "      <td>469690</td>\n",
       "      <td>0.296171</td>\n",
       "    </tr>\n",
       "    <tr>\n",
       "      <th>3</th>\n",
       "      <td>QUEENS</td>\n",
       "      <td>2230722</td>\n",
       "      <td>592405</td>\n",
       "      <td>0.265566</td>\n",
       "    </tr>\n",
       "    <tr>\n",
       "      <th>4</th>\n",
       "      <td>STATEN ISLAND</td>\n",
       "      <td>468730</td>\n",
       "      <td>126678</td>\n",
       "      <td>0.270258</td>\n",
       "    </tr>\n",
       "  </tbody>\n",
       "</table>\n",
       "</div>"
      ],
      "text/plain": [
       "         Borough  Population  Complaints  Complaint_Index\n",
       "0          BRONX     1385108      450115         0.324967\n",
       "1       BROOKLYN     2504700      765325         0.305556\n",
       "2      MANHATTAN     1585873      469690         0.296171\n",
       "3         QUEENS     2230722      592405         0.265566\n",
       "4  STATEN ISLAND      468730      126678         0.270258"
      ]
     },
     "execution_count": 12,
     "metadata": {},
     "output_type": "execute_result"
    }
   ],
   "source": [
    "#Problem 3\n",
    "#Considering all complaint types. Which boroughs are the biggest \"complainers\" relative to the size of the population in 2017?\n",
    "#Meaning, calculate a complaint-index that adjusts for population of the borough.\n",
    "\n",
    "#get borough population information for 2010 from a previously downloaded file\n",
    "borough_pop_df = pd.read_csv('New_York_City_Population_By_Neighborhood_Tabulation_Areas.csv')\n",
    "borough_pop_df = borough_pop_df[borough_pop_df['Year'] == 2010]\n",
    "\n",
    "#convert the boroughs to uppercase\n",
    "borough_pop_df['Borough'] = map(lambda x: x.upper(), borough_pop_df['Borough'])\n",
    "#now aggregate across all areas of each borough to get total population per borough\n",
    "aggregate_borough_pop_df = borough_pop_df.groupby(['Borough'])['Population'].sum().reset_index()\n",
    "\n",
    "#count the complaints per borough from the full list of complaints in to a new dataframe\n",
    "aggregate_borough_complaint_df = full_df.groupby(['borough'])[':id'].count().reset_index().rename(columns={'borough': 'Borough', ':id':'Complaints'})\n",
    "#now merge the borough complaint set with the population set so we have both at once\n",
    "full_borough_df = aggregate_borough_pop_df.merge(aggregate_borough_complaint_df[['Complaints','Borough']], on='Borough')\n",
    "#now calculate the complaint index as the number of complaints per person in each borough\n",
    "full_borough_df['Complaint_Index'] = full_borough_df['Complaints'] / full_borough_df['Population']\n",
    "full_borough_df.head()\n"
   ]
  },
  {
   "cell_type": "code",
   "execution_count": null,
   "metadata": {},
   "outputs": [],
   "source": []
  }
 ],
 "metadata": {
  "kernelspec": {
   "display_name": "Python 2",
   "language": "python",
   "name": "python2"
  },
  "language_info": {
   "codemirror_mode": {
    "name": "ipython",
    "version": 2
   },
   "file_extension": ".py",
   "mimetype": "text/x-python",
   "name": "python",
   "nbconvert_exporter": "python",
   "pygments_lexer": "ipython2",
   "version": "2.7.12"
  }
 },
 "nbformat": 4,
 "nbformat_minor": 2
}
